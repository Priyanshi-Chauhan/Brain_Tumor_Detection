{
  "nbformat": 4,
  "nbformat_minor": 0,
  "metadata": {
    "colab": {
      "name": "80_20.ipynb",
      "provenance": [],
      "collapsed_sections": []
    },
    "kernelspec": {
      "display_name": "Python 3",
      "name": "python3"
    },
    "accelerator": "GPU"
  },
  "cells": [
    {
      "cell_type": "markdown",
      "metadata": {
        "id": "9KqFBhZhjR9F"
      },
      "source": [
        "**BRAIN TUMOR CLASSIFICATION USING TRANSFER LEARNING(RESNET50)**"
      ]
    },
    {
      "cell_type": "markdown",
      "metadata": {
        "id": "Pz9JNDgE7OGq"
      },
      "source": [
        "IMPORTING HISTOGRAM EQUALISED IMAGES AND CORRESPONDING LABELS\n",
        " "
      ]
    },
    {
      "cell_type": "code",
      "metadata": {
        "id": "0hd3IcWS9bCe"
      },
      "source": [
        "import numpy as np\n",
        "data=np.load('/content/drive/MyDrive/imagesComplete.npy', allow_pickle=\"true\")\n",
        "labels=np.load('/content/labels100 (1).npy', allow_pickle=\"true\")"
      ],
      "execution_count": null,
      "outputs": []
    },
    {
      "cell_type": "code",
      "metadata": {
        "id": "KflaxJFrZjKG",
        "colab": {
          "base_uri": "https://localhost:8080/"
        },
        "outputId": "9c38c831-f9d0-40a1-ebed-280ce49fc035"
      },
      "source": [
        "from google.colab import drive\n",
        "drive.mount('/content/drive')"
      ],
      "execution_count": null,
      "outputs": [
        {
          "output_type": "stream",
          "text": [
            "Mounted at /content/drive\n"
          ],
          "name": "stdout"
        }
      ]
    },
    {
      "cell_type": "markdown",
      "metadata": {
        "id": "g4mhrjp-7dBD"
      },
      "source": [
        "IMPORTING REQUIRED LIBRARIES\n"
      ]
    },
    {
      "cell_type": "code",
      "metadata": {
        "id": "Kho_GD3p_Uvz"
      },
      "source": [
        "from keras import Sequential\n",
        "#importing other required libraries\n",
        "import numpy as np\n",
        "import pandas as pd\n",
        "from sklearn.utils.multiclass import unique_labels\n",
        "import matplotlib.pyplot as plt\n",
        "import matplotlib.image as mpimg\n",
        "import seaborn as sns\n",
        "import itertools\n",
        "from sklearn.model_selection import train_test_split\n",
        "from sklearn.metrics import confusion_matrix\n",
        "from keras import Sequential\n",
        "from keras.applications import VGG19, VGG16, ResNet50\n",
        "from keras.preprocessing.image import ImageDataGenerator\n",
        "from keras.optimizers import SGD,Adam\n",
        "from keras.callbacks import ReduceLROnPlateau\n",
        "from keras.layers import Flatten, Dense, BatchNormalization, Activation,Dropout\n",
        "from keras.utils import to_categorical\n",
        "import tensorflow as tf\n",
        "import random"
      ],
      "execution_count": null,
      "outputs": []
    },
    {
      "cell_type": "code",
      "metadata": {
        "id": "YCqlxSf8-ewU"
      },
      "source": [
        "data=np.asarray(data)"
      ],
      "execution_count": null,
      "outputs": []
    },
    {
      "cell_type": "code",
      "metadata": {
        "id": "f2gf_CeI-nZS"
      },
      "source": [
        "labels=np.asarray(labels)"
      ],
      "execution_count": null,
      "outputs": []
    },
    {
      "cell_type": "markdown",
      "metadata": {
        "id": "nwINyy8e7jzj"
      },
      "source": [
        "IMAGES HAVING SIZE OTHER THAN 512x512 HAVE TO BE DELETED "
      ]
    },
    {
      "cell_type": "code",
      "metadata": {
        "colab": {
          "base_uri": "https://localhost:8080/"
        },
        "id": "kxmZbek7Dm34",
        "outputId": "c6705c48-cc27-40ec-bf4d-866f2b431aa1"
      },
      "source": [
        "for i in range(3064):\n",
        "  if(data[i].shape[0]!=512):\n",
        "    print(i)\n"
      ],
      "execution_count": null,
      "outputs": [
        {
          "output_type": "stream",
          "text": [
            "1003\n",
            "1004\n",
            "1005\n",
            "1008\n",
            "1009\n",
            "1010\n",
            "1011\n",
            "1134\n",
            "1136\n",
            "1138\n",
            "1139\n",
            "1141\n",
            "2890\n",
            "2891\n",
            "2892\n"
          ],
          "name": "stdout"
        }
      ]
    },
    {
      "cell_type": "code",
      "metadata": {
        "id": "i4WukFh1BBOB"
      },
      "source": [
        "data = np.delete(data, [1003,1004,1005,1008,1009,1010,1011,1134,1136,1138,1139,1141,2890,2891,2892], axis=0)\n",
        "labels = np.delete(labels, [1003,1004,1005,1008,1009,1010,1011,1134,1136,1138,1139,1141,2890,2891,2892], axis=0)"
      ],
      "execution_count": null,
      "outputs": []
    },
    {
      "cell_type": "markdown",
      "metadata": {
        "id": "Lqr_5syn8YeK"
      },
      "source": [
        "IMAGE PREPROCESSING, SO AS TO FEED INTO THE TRANSFER LEARNING MODELS\n",
        "STEPS:\n",
        "\n",
        "1.FLATTENING THE IMAGE\n",
        "\n",
        "2.REDUCING PIXELS SO THAT WE CAN CONVERT A MONOCHROME IMAGE TO RGB.\n",
        "\n",
        "3.RESHAPING INTO A 3-DIMENSIONAL IMAGE\n"
      ]
    },
    {
      "cell_type": "code",
      "metadata": {
        "id": "NRQhHRnH-4cQ"
      },
      "source": [
        "from tensorflow.keras.applications.resnet50 import preprocess_input,decode_predictions\n",
        "for i in range(3049):\n",
        "  data[i]=data[i].flatten()\n",
        "  data[i]=data[i][:261075]\n",
        "  data[i]=data[i].reshape((295,295,3))\n",
        "  data[i]=preprocess_input(data[i])"
      ],
      "execution_count": null,
      "outputs": []
    },
    {
      "cell_type": "code",
      "metadata": {
        "id": "L-ANoyDNjWgT"
      },
      "source": [
        "#for i in range(2290,3064):\n",
        " # data[i]=data[i].flatten()\n",
        "  #data[i]=data[i][:261075]\n",
        "  #data[i]=data[i].reshape((295,295,3))\n",
        "  #data[i]=preprocess_input(data[i])"
      ],
      "execution_count": null,
      "outputs": []
    },
    {
      "cell_type": "code",
      "metadata": {
        "id": "IVvRH1t5_AGK"
      },
      "source": [
        "a=tf.keras.utils.to_categorical(labels, num_classes=4)"
      ],
      "execution_count": null,
      "outputs": []
    },
    {
      "cell_type": "code",
      "metadata": {
        "id": "xhdqi7xb_OTl"
      },
      "source": [
        "a=np.delete(a, 0, 1)\n"
      ],
      "execution_count": null,
      "outputs": []
    },
    {
      "cell_type": "code",
      "metadata": {
        "id": "HBsTmTQUlvj0",
        "colab": {
          "base_uri": "https://localhost:8080/"
        },
        "outputId": "792302db-cfbd-4e4a-9c78-29505616af22"
      },
      "source": [
        "2290-2030\n"
      ],
      "execution_count": null,
      "outputs": [
        {
          "output_type": "execute_result",
          "data": {
            "text/plain": [
              "260"
            ]
          },
          "metadata": {
            "tags": []
          },
          "execution_count": 13
        }
      ]
    },
    {
      "cell_type": "markdown",
      "metadata": {
        "id": "UzRjf0RG-GgS"
      },
      "source": [
        "\n"
      ]
    },
    {
      "cell_type": "markdown",
      "metadata": {
        "id": "Rgb2KW3_-Jx2"
      },
      "source": [
        "Randomly generating test-set and training-set"
      ]
    },
    {
      "cell_type": "code",
      "metadata": {
        "id": "s4-r7XB1DajW"
      },
      "source": [
        "d=[]\n",
        "for i in range(3049):\n",
        "  if i%5!=0:\n",
        "    p=data[i].reshape(295,295,3)\n",
        "    d.append(p)\n",
        "\n",
        "  "
      ],
      "execution_count": null,
      "outputs": []
    },
    {
      "cell_type": "code",
      "metadata": {
        "id": "wKYwbNQm9nxg"
      },
      "source": [
        "l=[]\n",
        "for i in range(3049):\n",
        "  if i%5!=0:\n",
        "    l.append(a[i])\n"
      ],
      "execution_count": null,
      "outputs": []
    },
    {
      "cell_type": "code",
      "metadata": {
        "id": "_M8XGxrHqEXr"
      },
      "source": [
        "test_i=[]\n",
        "for i in range(3049):\n",
        "  if i %5 ==0 :\n",
        "    p=data[i].reshape(295,295,3)\n",
        "    test_i.append(p)\n",
        "\n"
      ],
      "execution_count": null,
      "outputs": []
    },
    {
      "cell_type": "code",
      "metadata": {
        "id": "leWmP6IA0Fc5"
      },
      "source": [
        "test_c=[]\n",
        "for i in range(3049):\n",
        "  if i %5 ==0 :\n",
        "    test_c.append(labels[i])"
      ],
      "execution_count": null,
      "outputs": []
    },
    {
      "cell_type": "code",
      "metadata": {
        "id": "SBeVlRkSyD36"
      },
      "source": [
        "test_i=np.asarray(test_i)\n",
        "test_c=np.asarray(test_c)\n",
        "np.save(\"TESTI_80_20.npy\",test_i)\n",
        "np.save(\"TESTC_80_20.npy\",test_c)"
      ],
      "execution_count": null,
      "outputs": []
    },
    {
      "cell_type": "code",
      "metadata": {
        "id": "83VTVLgiJeMZ"
      },
      "source": [
        "#import numpy as np\n",
        "#data=np.load('/content/TESTI_80_20.npy')\n",
        "#labels=np.load('/content/TESTC_80_20.npy')"
      ],
      "execution_count": null,
      "outputs": []
    },
    {
      "cell_type": "markdown",
      "metadata": {
        "id": "FwG8DWiqLbwo"
      },
      "source": [
        ""
      ]
    },
    {
      "cell_type": "code",
      "metadata": {
        "colab": {
          "base_uri": "https://localhost:8080/"
        },
        "id": "pYqoeO-gmiuj",
        "outputId": "becb1b01-12d3-4c31-916a-673c45c54837"
      },
      "source": [
        "d=np.asarray(d)\n",
        "l=np.asarray(l)\n",
        "l.shape"
      ],
      "execution_count": null,
      "outputs": [
        {
          "output_type": "execute_result",
          "data": {
            "text/plain": [
              "(2439, 3)"
            ]
          },
          "metadata": {
            "tags": []
          },
          "execution_count": 20
        }
      ]
    },
    {
      "cell_type": "code",
      "metadata": {
        "colab": {
          "base_uri": "https://localhost:8080/"
        },
        "id": "uhxPiLrql8VN",
        "outputId": "68366444-7db5-4e60-80c0-9d87aaa2032c"
      },
      "source": [
        "d.shape"
      ],
      "execution_count": null,
      "outputs": [
        {
          "output_type": "execute_result",
          "data": {
            "text/plain": [
              "(2439, 295, 295, 3)"
            ]
          },
          "metadata": {
            "tags": []
          },
          "execution_count": 21
        }
      ]
    },
    {
      "cell_type": "markdown",
      "metadata": {
        "id": "rwKtzl12-d6t"
      },
      "source": [
        "Model-:"
      ]
    },
    {
      "cell_type": "code",
      "metadata": {
        "id": "ge0KW4W-Njz_",
        "colab": {
          "base_uri": "https://localhost:8080/"
        },
        "outputId": "89a640ac-bf02-4b81-8962-9999be65a7dd"
      },
      "source": [
        "from keras.applications import VGG19, VGG16, ResNet50\n",
        "from keras.models import Model\n",
        "from keras.layers import Input\n",
        "from keras.layers import AveragePooling2D\n",
        "baseModel = ResNet50(weights=\"imagenet\", include_top=False,input_tensor=Input(shape=(295,295, 3)))\n",
        "headModel = baseModel.output\n",
        "headModel = AveragePooling2D(pool_size=(7, 7))(headModel)\n",
        "headModel = Flatten(name=\"flatten\")(headModel)\n",
        "headModel = Dense(128, activation=\"relu\")(headModel)\n",
        "headModel = Dropout(0.5)(headModel)\n",
        "headModel = Dense(3, activation=\"softmax\")(headModel)\n",
        "model = Model(inputs=baseModel.input, outputs=headModel)\n",
        "for layer in baseModel.layers:\n",
        "\tlayer.trainable = False\n"
      ],
      "execution_count": null,
      "outputs": [
        {
          "output_type": "stream",
          "text": [
            "Downloading data from https://storage.googleapis.com/tensorflow/keras-applications/resnet/resnet50_weights_tf_dim_ordering_tf_kernels_notop.h5\n",
            "94773248/94765736 [==============================] - 1s 0us/step\n"
          ],
          "name": "stdout"
        }
      ]
    },
    {
      "cell_type": "code",
      "metadata": {
        "id": "LKJcNF3TPH9U"
      },
      "source": [
        "INIT_LR = 1e-4\n",
        "EPOCHS =10\n",
        "BS = 32\n",
        "opt = SGD(lr=1e-4, momentum=0.9)\n",
        "model.compile(loss=\"binary_crossentropy\", optimizer=opt,\n",
        "\tmetrics=[\"accuracy\"])"
      ],
      "execution_count": null,
      "outputs": []
    },
    {
      "cell_type": "code",
      "metadata": {
        "id": "ugr5pBx8AVqT"
      },
      "source": [
        "(x_train, x_val, trainY, testY) = train_test_split(d,l,test_size=0.20, random_state=42)"
      ],
      "execution_count": null,
      "outputs": []
    },
    {
      "cell_type": "markdown",
      "metadata": {
        "id": "WSAMLiFl-msa"
      },
      "source": [
        "Training of the model"
      ]
    },
    {
      "cell_type": "code",
      "metadata": {
        "colab": {
          "base_uri": "https://localhost:8080/"
        },
        "id": "wAGG3gutPd3O",
        "outputId": "4d40186b-0d11-4b35-fed3-71702162a224"
      },
      "source": [
        "H = model.fit(x_train, trainY, batch_size=11,steps_per_epoch=len(x_train)//11,validation_data=(x_val, testY),validation_steps=len(x_val)//11 ,epochs=40)"
      ],
      "execution_count": null,
      "outputs": [
        {
          "output_type": "stream",
          "text": [
            "Epoch 1/40\n",
            "177/177 [==============================] - 53s 229ms/step - loss: 0.7105 - accuracy: 0.4131 - val_loss: 0.5986 - val_accuracy: 0.5041\n",
            "Epoch 2/40\n",
            "177/177 [==============================] - 40s 224ms/step - loss: 0.5372 - accuracy: 0.6145 - val_loss: 0.4798 - val_accuracy: 0.6880\n",
            "Epoch 3/40\n",
            "177/177 [==============================] - 41s 231ms/step - loss: 0.4967 - accuracy: 0.6441 - val_loss: 0.4361 - val_accuracy: 0.7273\n",
            "Epoch 4/40\n",
            "177/177 [==============================] - 42s 236ms/step - loss: 0.4607 - accuracy: 0.6721 - val_loss: 0.4108 - val_accuracy: 0.7376\n",
            "Epoch 5/40\n",
            "177/177 [==============================] - 41s 233ms/step - loss: 0.4299 - accuracy: 0.7040 - val_loss: 0.3807 - val_accuracy: 0.7521\n",
            "Epoch 6/40\n",
            "177/177 [==============================] - 41s 234ms/step - loss: 0.3946 - accuracy: 0.7512 - val_loss: 0.4066 - val_accuracy: 0.7169\n",
            "Epoch 7/40\n",
            "177/177 [==============================] - 41s 233ms/step - loss: 0.3820 - accuracy: 0.7584 - val_loss: 0.3565 - val_accuracy: 0.7417\n",
            "Epoch 8/40\n",
            "177/177 [==============================] - 41s 234ms/step - loss: 0.3533 - accuracy: 0.7956 - val_loss: 0.3274 - val_accuracy: 0.7975\n",
            "Epoch 9/40\n",
            "177/177 [==============================] - 41s 234ms/step - loss: 0.3304 - accuracy: 0.7949 - val_loss: 0.3155 - val_accuracy: 0.8058\n",
            "Epoch 10/40\n",
            "177/177 [==============================] - 41s 234ms/step - loss: 0.3031 - accuracy: 0.8013 - val_loss: 0.3532 - val_accuracy: 0.7624\n",
            "Epoch 11/40\n",
            "177/177 [==============================] - 41s 234ms/step - loss: 0.2952 - accuracy: 0.8329 - val_loss: 0.3241 - val_accuracy: 0.8037\n",
            "Epoch 12/40\n",
            "177/177 [==============================] - 41s 234ms/step - loss: 0.2682 - accuracy: 0.8439 - val_loss: 0.3435 - val_accuracy: 0.7831\n",
            "Epoch 13/40\n",
            "177/177 [==============================] - 41s 234ms/step - loss: 0.2429 - accuracy: 0.8706 - val_loss: 0.3323 - val_accuracy: 0.7707\n",
            "Epoch 14/40\n",
            "177/177 [==============================] - 41s 234ms/step - loss: 0.2371 - accuracy: 0.8590 - val_loss: 0.3544 - val_accuracy: 0.7893\n",
            "Epoch 15/40\n",
            "177/177 [==============================] - 41s 234ms/step - loss: 0.2109 - accuracy: 0.8899 - val_loss: 0.2969 - val_accuracy: 0.8244\n",
            "Epoch 16/40\n",
            "177/177 [==============================] - 41s 234ms/step - loss: 0.1975 - accuracy: 0.8941 - val_loss: 0.3627 - val_accuracy: 0.7934\n",
            "Epoch 17/40\n",
            "177/177 [==============================] - 41s 234ms/step - loss: 0.1591 - accuracy: 0.9264 - val_loss: 0.2947 - val_accuracy: 0.8099\n",
            "Epoch 18/40\n",
            "177/177 [==============================] - 41s 233ms/step - loss: 0.1543 - accuracy: 0.9321 - val_loss: 0.3115 - val_accuracy: 0.7955\n",
            "Epoch 19/40\n",
            "177/177 [==============================] - 41s 233ms/step - loss: 0.1394 - accuracy: 0.9396 - val_loss: 0.2936 - val_accuracy: 0.8285\n",
            "Epoch 20/40\n",
            "177/177 [==============================] - 41s 233ms/step - loss: 0.1282 - accuracy: 0.9396 - val_loss: 0.3059 - val_accuracy: 0.8037\n",
            "Epoch 21/40\n",
            "177/177 [==============================] - 41s 233ms/step - loss: 0.1292 - accuracy: 0.9512 - val_loss: 0.3454 - val_accuracy: 0.7789\n",
            "Epoch 22/40\n",
            "177/177 [==============================] - 41s 234ms/step - loss: 0.1079 - accuracy: 0.9582 - val_loss: 0.3025 - val_accuracy: 0.8202\n",
            "Epoch 23/40\n",
            "177/177 [==============================] - 41s 233ms/step - loss: 0.0963 - accuracy: 0.9583 - val_loss: 0.3047 - val_accuracy: 0.8326\n",
            "Epoch 24/40\n",
            "177/177 [==============================] - 41s 233ms/step - loss: 0.0873 - accuracy: 0.9579 - val_loss: 0.3267 - val_accuracy: 0.8223\n",
            "Epoch 25/40\n",
            "177/177 [==============================] - 41s 233ms/step - loss: 0.0876 - accuracy: 0.9629 - val_loss: 0.4115 - val_accuracy: 0.7975\n",
            "Epoch 26/40\n",
            "177/177 [==============================] - 41s 233ms/step - loss: 0.0861 - accuracy: 0.9630 - val_loss: 0.3208 - val_accuracy: 0.8264\n",
            "Epoch 27/40\n",
            "177/177 [==============================] - 41s 233ms/step - loss: 0.0706 - accuracy: 0.9720 - val_loss: 0.3283 - val_accuracy: 0.8285\n",
            "Epoch 28/40\n",
            "177/177 [==============================] - 41s 233ms/step - loss: 0.0692 - accuracy: 0.9789 - val_loss: 0.3493 - val_accuracy: 0.7851\n",
            "Epoch 29/40\n",
            "177/177 [==============================] - 41s 234ms/step - loss: 0.0568 - accuracy: 0.9778 - val_loss: 0.3376 - val_accuracy: 0.8182\n",
            "Epoch 30/40\n",
            "177/177 [==============================] - 41s 234ms/step - loss: 0.0496 - accuracy: 0.9873 - val_loss: 0.2957 - val_accuracy: 0.8347\n",
            "Epoch 31/40\n",
            "177/177 [==============================] - 41s 233ms/step - loss: 0.0472 - accuracy: 0.9818 - val_loss: 0.3121 - val_accuracy: 0.8264\n",
            "Epoch 32/40\n",
            "177/177 [==============================] - 41s 234ms/step - loss: 0.0429 - accuracy: 0.9870 - val_loss: 0.3823 - val_accuracy: 0.8161\n",
            "Epoch 33/40\n",
            "177/177 [==============================] - 41s 233ms/step - loss: 0.0416 - accuracy: 0.9899 - val_loss: 0.3620 - val_accuracy: 0.8244\n",
            "Epoch 34/40\n",
            "177/177 [==============================] - 41s 234ms/step - loss: 0.0314 - accuracy: 0.9923 - val_loss: 0.3254 - val_accuracy: 0.8409\n",
            "Epoch 35/40\n",
            "177/177 [==============================] - 41s 234ms/step - loss: 0.0352 - accuracy: 0.9881 - val_loss: 0.3129 - val_accuracy: 0.8409\n",
            "Epoch 36/40\n",
            "177/177 [==============================] - 41s 233ms/step - loss: 0.0337 - accuracy: 0.9907 - val_loss: 0.3433 - val_accuracy: 0.8347\n",
            "Epoch 37/40\n",
            "177/177 [==============================] - 41s 233ms/step - loss: 0.0343 - accuracy: 0.9924 - val_loss: 0.3532 - val_accuracy: 0.8492\n",
            "Epoch 38/40\n",
            "177/177 [==============================] - 41s 233ms/step - loss: 0.0336 - accuracy: 0.9896 - val_loss: 0.3477 - val_accuracy: 0.8244\n",
            "Epoch 39/40\n",
            "177/177 [==============================] - 41s 234ms/step - loss: 0.0354 - accuracy: 0.9895 - val_loss: 0.4032 - val_accuracy: 0.8347\n",
            "Epoch 40/40\n",
            "177/177 [==============================] - 41s 234ms/step - loss: 0.0239 - accuracy: 0.9952 - val_loss: 0.3364 - val_accuracy: 0.8430\n"
          ],
          "name": "stdout"
        }
      ]
    },
    {
      "cell_type": "markdown",
      "metadata": {
        "id": "EPzoHDl7-rjG"
      },
      "source": [
        "Accuracy achieved 98.73% on training set and approx 84% on test set."
      ]
    },
    {
      "cell_type": "code",
      "metadata": {
        "id": "wU-RTpZNAovg"
      },
      "source": [
        "model.save(\"model_80_20.h5\")"
      ],
      "execution_count": null,
      "outputs": []
    },
    {
      "cell_type": "code",
      "metadata": {
        "id": "9UNppGv5IMBP",
        "colab": {
          "base_uri": "https://localhost:8080/"
        },
        "outputId": "9f65adb1-68fa-4dd0-9204-72509f7805e0"
      },
      "source": [
        "test_i=np.asarray(test_i)\n",
        "\n",
        "test_i.shape"
      ],
      "execution_count": null,
      "outputs": [
        {
          "output_type": "execute_result",
          "data": {
            "text/plain": [
              "(610, 295, 295, 3)"
            ]
          },
          "metadata": {
            "tags": []
          },
          "execution_count": 27
        }
      ]
    },
    {
      "cell_type": "code",
      "metadata": {
        "id": "VNZmiahuuqNk"
      },
      "source": [
        "test_c=np.asarray(test_c)\n"
      ],
      "execution_count": null,
      "outputs": []
    },
    {
      "cell_type": "code",
      "metadata": {
        "colab": {
          "base_uri": "https://localhost:8080/"
        },
        "id": "I-M-exyQmC5V",
        "outputId": "b4c3d2e6-aeb0-45fc-f138-08c2771b426a"
      },
      "source": [
        "test_c.shape"
      ],
      "execution_count": null,
      "outputs": [
        {
          "output_type": "execute_result",
          "data": {
            "text/plain": [
              "(610, 1)"
            ]
          },
          "metadata": {
            "tags": []
          },
          "execution_count": 29
        }
      ]
    },
    {
      "cell_type": "code",
      "metadata": {
        "id": "atsH6Bz7xheK"
      },
      "source": [
        "k=[]\n",
        "for i in test_c:\n",
        "  if i==1:\n",
        "    k.append(0)\n",
        "  if i==2:\n",
        "    k.append(1)\n",
        "  if i==3:\n",
        "    k.append(2)\n",
        "k=np.asarray(k)     "
      ],
      "execution_count": null,
      "outputs": []
    },
    {
      "cell_type": "code",
      "metadata": {
        "colab": {
          "base_uri": "https://localhost:8080/"
        },
        "id": "rlCCGTQBmXlV",
        "outputId": "c270e2d6-91b2-46b0-ede8-6c7e68ab2b65"
      },
      "source": [
        "print(k)\n"
      ],
      "execution_count": null,
      "outputs": [
        {
          "output_type": "stream",
          "text": [
            "<tensorflow.python.keras.engine.functional.Functional object at 0x7f2a134c1ac8>\n"
          ],
          "name": "stdout"
        }
      ]
    },
    {
      "cell_type": "code",
      "metadata": {
        "colab": {
          "base_uri": "https://localhost:8080/"
        },
        "id": "LC6lCs5Uwd9E",
        "outputId": "0e89e6dd-993d-48d9-fb86-9299c9d6ff17"
      },
      "source": [
        "from sklearn.metrics import classification_report\n",
        "\n",
        "y_pred = model.predict(test_i, batch_size=64, verbose=0)\n",
        "y_pred_bool = np.argmax(y_pred, axis=1)\n",
        "\n",
        "print(classification_report(k, y_pred_bool))"
      ],
      "execution_count": null,
      "outputs": [
        {
          "output_type": "stream",
          "text": [
            "              precision    recall  f1-score   support\n",
            "\n",
            "           0       0.82      0.86      0.84       142\n",
            "           1       0.86      0.80      0.83       285\n",
            "           2       0.78      0.84      0.81       183\n",
            "\n",
            "    accuracy                           0.83       610\n",
            "   macro avg       0.82      0.83      0.83       610\n",
            "weighted avg       0.83      0.83      0.83       610\n",
            "\n"
          ],
          "name": "stdout"
        }
      ]
    },
    {
      "cell_type": "code",
      "metadata": {
        "colab": {
          "base_uri": "https://localhost:8080/",
          "height": 295
        },
        "id": "C82IRZ5SVrE2",
        "outputId": "a511c6ee-65d0-47e3-87d9-8e25f833d2bd"
      },
      "source": [
        "import keras\n",
        "from matplotlib import pyplot as plt\n",
        "plt.plot(H.history['accuracy'])\n",
        "plt.plot(H.history['val_accuracy'])\n",
        "plt.title('model accuracy')\n",
        "plt.ylabel('accuracy')\n",
        "plt.xlabel('epoch')\n",
        "plt.legend(['train', 'test'], loc='upper left')\n",
        "plt.show()"
      ],
      "execution_count": null,
      "outputs": [
        {
          "output_type": "display_data",
          "data": {
            "image/png": "[encoded data removed]",
            "text/plain": [
              "<Figure size 432x288 with 1 Axes>"
            ]
          },
          "metadata": {
            "tags": [],
            "needs_background": "light"
          }
        }
      ]
    },
    {
      "cell_type": "markdown",
      "metadata": {
        "id": "EyWp6PGJie0k"
      },
      "source": [
        "**CONCLUSION**\n",
        "\n",
        "We finally achieved a good accuracy of 84.30% on test set and with histogram equilisation image enhancement technique. \n",
        "\n"
      ]
    },
    {
      "cell_type": "code",
      "metadata": {
        "id": "DiZ-ZaBiV6pi"
      },
      "source": [
        "         "
      ],
      "execution_count": null,
      "outputs": []
    }
  ]
}