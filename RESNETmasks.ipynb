{
  "nbformat": 4,
  "nbformat_minor": 0,
  "metadata": {
    "colab": {
      "name": "RESNETmasks.ipynb",
      "provenance": [],
      "collapsed_sections": []
    },
    "kernelspec": {
      "name": "python3",
      "display_name": "Python 3"
    }
  },
  "cells": [
    {
      "cell_type": "code",
      "metadata": {
        "id": "HjhwUG588deS"
      },
      "source": [
        "import os"
      ],
      "execution_count": null,
      "outputs": []
    },
    {
      "cell_type": "code",
      "metadata": {
        "colab": {
          "base_uri": "https://localhost:8080/"
        },
        "id": "9-fts9gAnYPj",
        "outputId": "00bb8a57-5f2d-4836-b321-dbd0734100c4"
      },
      "source": [
        "from google.colab import drive\n",
        "drive.mount('/content/drive')"
      ],
      "execution_count": null,
      "outputs": [
        {
          "output_type": "stream",
          "text": [
            "Drive already mounted at /content/drive; to attempt to forcibly remount, call drive.mount(\"/content/drive\", force_remount=True).\n"
          ],
          "name": "stdout"
        }
      ]
    },
    {
      "cell_type": "code",
      "metadata": {
        "colab": {
          "base_uri": "https://localhost:8080/"
        },
        "id": "AMxBhJdC9WjQ",
        "outputId": "61e92dfa-2213-4d36-b368-c85d4bc79060"
      },
      "source": [
        "os.listdir()"
      ],
      "execution_count": null,
      "outputs": [
        {
          "output_type": "execute_result",
          "data": {
            "text/plain": [
              "['.config', 'drive', 'sample_data']"
            ]
          },
          "metadata": {
            "tags": []
          },
          "execution_count": 3
        }
      ]
    },
    {
      "cell_type": "code",
      "metadata": {
        "id": "rshiccQX9YGF"
      },
      "source": [
        "import numpy as np\n",
        "data=np.load('drive/My Drive/images2.npy', allow_pickle=True)"
      ],
      "execution_count": null,
      "outputs": []
    },
    {
      "cell_type": "code",
      "metadata": {
        "id": "7vMajYpp9dDq"
      },
      "source": [
        "labels=np.load('/content/drive/MyDrive/labels2.npy',allow_pickle=True)"
      ],
      "execution_count": null,
      "outputs": []
    },
    {
      "cell_type": "code",
      "metadata": {
        "colab": {
          "base_uri": "https://localhost:8080/"
        },
        "id": "8npYK96R908x",
        "outputId": "398a3888-5e91-40eb-cfe3-f0157779b808"
      },
      "source": [
        "data.shape"
      ],
      "execution_count": null,
      "outputs": [
        {
          "output_type": "execute_result",
          "data": {
            "text/plain": [
              "(766, 512, 512)"
            ]
          },
          "metadata": {
            "tags": []
          },
          "execution_count": 10
        }
      ]
    },
    {
      "cell_type": "code",
      "metadata": {
        "colab": {
          "base_uri": "https://localhost:8080/"
        },
        "id": "aE6tyr9s94Qk",
        "outputId": "bc5e42cc-e087-4490-a3ba-b05c735f8ef7"
      },
      "source": [
        "data[0].flatten()"
      ],
      "execution_count": null,
      "outputs": [
        {
          "output_type": "execute_result",
          "data": {
            "text/plain": [
              "array([0, 0, 0, ..., 0, 0, 0], dtype=uint8)"
            ]
          },
          "metadata": {
            "tags": []
          },
          "execution_count": 11
        }
      ]
    },
    {
      "cell_type": "code",
      "metadata": {
        "id": "AFuJN9v99-L_"
      },
      "source": [
        "data=np.asarray(data)\n",
        "labels=np.asarray(labels)"
      ],
      "execution_count": null,
      "outputs": []
    },
    {
      "cell_type": "code",
      "metadata": {
        "id": "CKqKBmHd-QWG"
      },
      "source": [
        "import matplotlib.pyplot as plt"
      ],
      "execution_count": null,
      "outputs": []
    },
    {
      "cell_type": "code",
      "metadata": {
        "colab": {
          "base_uri": "https://localhost:8080/",
          "height": 287
        },
        "id": "W4JQFvVq-WeZ",
        "outputId": "c96e14a8-2673-40c8-f3c2-034894ac0b81"
      },
      "source": [
        "plt.imshow(data[0])"
      ],
      "execution_count": null,
      "outputs": [
        {
          "output_type": "execute_result",
          "data": {
            "text/plain": [
              "<matplotlib.image.AxesImage at 0x7faa969d54e0>"
            ]
          },
          "metadata": {
            "tags": []
          },
          "execution_count": 14
        },
        {
          "output_type": "display_data",
          "data": {
            "image/png": "[encoded data removed]",
            "text/plain": [
              "<Figure size 432x288 with 1 Axes>"
            ]
          },
          "metadata": {
            "tags": [],
            "needs_background": "light"
          }
        }
      ]
    },
    {
      "cell_type": "code",
      "metadata": {
        "id": "6gerYf6_-cv-"
      },
      "source": [
        "l=[]\n",
        "for i in range(766):\n",
        "  l.append(data[i].flatten())\n"
      ],
      "execution_count": null,
      "outputs": []
    },
    {
      "cell_type": "code",
      "metadata": {
        "id": "Ts0UUMpm_K5h"
      },
      "source": [
        "data=data.flatten()"
      ],
      "execution_count": null,
      "outputs": []
    },
    {
      "cell_type": "code",
      "metadata": {
        "colab": {
          "base_uri": "https://localhost:8080/"
        },
        "id": "Yl6jDsJy_XNL",
        "outputId": "60399fcc-63f1-4bd0-dff0-c29c2cfabde0"
      },
      "source": [
        "data.shape"
      ],
      "execution_count": null,
      "outputs": [
        {
          "output_type": "execute_result",
          "data": {
            "text/plain": [
              "(200802304,)"
            ]
          },
          "metadata": {
            "tags": []
          },
          "execution_count": 17
        }
      ]
    },
    {
      "cell_type": "code",
      "metadata": {
        "colab": {
          "base_uri": "https://localhost:8080/"
        },
        "id": "VM9kdgNZ_WVl",
        "outputId": "da019082-7c8c-4445-b4bd-111526cb6c1a"
      },
      "source": [
        "data[0].flatten()"
      ],
      "execution_count": null,
      "outputs": [
        {
          "output_type": "execute_result",
          "data": {
            "text/plain": [
              "array([0], dtype=uint8)"
            ]
          },
          "metadata": {
            "tags": []
          },
          "execution_count": 18
        }
      ]
    },
    {
      "cell_type": "code",
      "metadata": {
        "colab": {
          "base_uri": "https://localhost:8080/"
        },
        "id": "k6IpB1mC_abL",
        "outputId": "14bb6d51-0f51-4355-91a6-e3ebf202ded1"
      },
      "source": [
        "data[0]"
      ],
      "execution_count": null,
      "outputs": [
        {
          "output_type": "execute_result",
          "data": {
            "text/plain": [
              "0"
            ]
          },
          "metadata": {
            "tags": []
          },
          "execution_count": 20
        }
      ]
    },
    {
      "cell_type": "code",
      "metadata": {
        "colab": {
          "base_uri": "https://localhost:8080/"
        },
        "id": "rO_ZffdY_utR",
        "outputId": "d25eadbf-919c-4c17-ecd8-f6aa931aa967"
      },
      "source": [
        "data[0].flatten().shape"
      ],
      "execution_count": null,
      "outputs": [
        {
          "output_type": "execute_result",
          "data": {
            "text/plain": [
              "(1,)"
            ]
          },
          "metadata": {
            "tags": []
          },
          "execution_count": 21
        }
      ]
    },
    {
      "cell_type": "code",
      "metadata": {
        "id": "_FkTLruaAToJ"
      },
      "source": [
        "l=np.asarray(l)"
      ],
      "execution_count": null,
      "outputs": []
    },
    {
      "cell_type": "code",
      "metadata": {
        "colab": {
          "base_uri": "https://localhost:8080/"
        },
        "id": "04m8zHxVAWt3",
        "outputId": "658280eb-a152-4a5c-b2ff-f305d738bb5a"
      },
      "source": [
        "l.shape"
      ],
      "execution_count": null,
      "outputs": [
        {
          "output_type": "execute_result",
          "data": {
            "text/plain": [
              "(766, 262144)"
            ]
          },
          "metadata": {
            "tags": []
          },
          "execution_count": 24
        }
      ]
    },
    {
      "cell_type": "code",
      "metadata": {
        "id": "TaTTh1rMAXhJ"
      },
      "source": [
        "d=[]\n",
        "for i in range(766):\n",
        "  d.append(l[i][:261075])\n",
        "  d[i]=d[i].reshape((295,295,3))\n"
      ],
      "execution_count": null,
      "outputs": []
    },
    {
      "cell_type": "code",
      "metadata": {
        "colab": {
          "base_uri": "https://localhost:8080/"
        },
        "id": "74jT5EggAnyR",
        "outputId": "5e417742-4e3a-4fe2-ffca-ae7f8b8a8703"
      },
      "source": [
        "l[0].shape"
      ],
      "execution_count": null,
      "outputs": [
        {
          "output_type": "execute_result",
          "data": {
            "text/plain": [
              "(262144,)"
            ]
          },
          "metadata": {
            "tags": []
          },
          "execution_count": 26
        }
      ]
    },
    {
      "cell_type": "code",
      "metadata": {
        "colab": {
          "base_uri": "https://localhost:8080/"
        },
        "id": "1kBKlgfRAuyG",
        "outputId": "1279dd9d-609b-4ecf-9200-7c4a8bee57b2"
      },
      "source": [
        "l[0][:100]"
      ],
      "execution_count": null,
      "outputs": [
        {
          "output_type": "execute_result",
          "data": {
            "text/plain": [
              "array([0, 0, 0, 0, 0, 0, 0, 0, 0, 0, 0, 0, 0, 0, 0, 0, 0, 0, 0, 0, 0, 0,\n",
              "       0, 0, 0, 0, 0, 0, 0, 0, 0, 0, 0, 0, 0, 0, 0, 0, 0, 0, 0, 0, 0, 0,\n",
              "       0, 0, 0, 0, 0, 0, 0, 0, 0, 0, 0, 0, 0, 0, 0, 0, 0, 0, 0, 0, 0, 0,\n",
              "       0, 0, 0, 0, 0, 0, 0, 0, 0, 0, 0, 0, 0, 0, 0, 0, 0, 0, 0, 0, 0, 0,\n",
              "       0, 0, 0, 0, 0, 0, 0, 0, 0, 0, 0, 0], dtype=uint8)"
            ]
          },
          "metadata": {
            "tags": []
          },
          "execution_count": 27
        }
      ]
    },
    {
      "cell_type": "code",
      "metadata": {
        "id": "dV7E9ZxOA22R"
      },
      "source": [
        "d=np.asarray(d)"
      ],
      "execution_count": null,
      "outputs": []
    },
    {
      "cell_type": "code",
      "metadata": {
        "id": "ZMp5HYpHBAS1"
      },
      "source": [
        "from tensorflow.keras.applications.resnet50 import preprocess_input,decode_predictions\n",
        "for i in range(766):\n",
        "  d[i]=preprocess_input(d[i])"
      ],
      "execution_count": null,
      "outputs": []
    },
    {
      "cell_type": "code",
      "metadata": {
        "id": "nL2udcNJBWNI"
      },
      "source": [
        "from keras import Sequential\n",
        "#importing other required libraries\n",
        "import numpy as np\n",
        "import pandas as pd\n",
        "from sklearn.utils.multiclass import unique_labels\n",
        "import matplotlib.pyplot as plt\n",
        "import matplotlib.image as mpimg\n",
        "import seaborn as sns\n",
        "import itertools\n",
        "from sklearn.model_selection import train_test_split\n",
        "from sklearn.metrics import confusion_matrix\n",
        "from keras import Sequential\n",
        "from keras.applications import VGG19, VGG16, ResNet50\n",
        "from keras.preprocessing.image import ImageDataGenerator\n",
        "from keras.optimizers import SGD,Adam\n",
        "from keras.callbacks import ReduceLROnPlateau\n",
        "from keras.layers import Flatten, Dense, BatchNormalization, Activation,Dropout\n",
        "from keras.utils import to_categorical\n",
        "import tensorflow as tf\n",
        "import random"
      ],
      "execution_count": null,
      "outputs": []
    },
    {
      "cell_type": "code",
      "metadata": {
        "id": "GdwELtudBlej"
      },
      "source": [
        "a=tf.keras.utils.to_categorical(labels, num_classes=4)"
      ],
      "execution_count": null,
      "outputs": []
    },
    {
      "cell_type": "code",
      "metadata": {
        "colab": {
          "base_uri": "https://localhost:8080/"
        },
        "id": "edq07DQqBuGz",
        "outputId": "be2271e9-64ee-4d28-f9f2-7fecbd314444"
      },
      "source": [
        "a.shape"
      ],
      "execution_count": null,
      "outputs": [
        {
          "output_type": "execute_result",
          "data": {
            "text/plain": [
              "(766, 4)"
            ]
          },
          "metadata": {
            "tags": []
          },
          "execution_count": 32
        }
      ]
    },
    {
      "cell_type": "code",
      "metadata": {
        "id": "KcR9koxsBvYq"
      },
      "source": [
        "a=np.delete(a, 0, 1)"
      ],
      "execution_count": null,
      "outputs": []
    },
    {
      "cell_type": "code",
      "metadata": {
        "id": "CAglmJ7oBzAB"
      },
      "source": [
        "(x_train, x_val, trainY, testY) = train_test_split(d,a,test_size=0.20, random_state=42)"
      ],
      "execution_count": null,
      "outputs": []
    },
    {
      "cell_type": "code",
      "metadata": {
        "id": "1SG4FEh7CTek"
      },
      "source": [
        "from keras.layers import AveragePooling2D"
      ],
      "execution_count": null,
      "outputs": []
    },
    {
      "cell_type": "code",
      "metadata": {
        "id": "2Aezj1JrClO7"
      },
      "source": [
        "\n",
        "from keras.layers import Input\n"
      ],
      "execution_count": null,
      "outputs": []
    },
    {
      "cell_type": "code",
      "metadata": {
        "id": "qqm4PG50CnAR",
        "colab": {
          "base_uri": "https://localhost:8080/"
        },
        "outputId": "c963d3e9-b273-4134-b80c-bcf46a0baa60"
      },
      "source": [
        "\n",
        "from keras.applications import VGG19, VGG16, ResNet50\n",
        "from keras.models import Model\n",
        "from keras.layers import Input\n",
        "from keras.layers import AveragePooling2D\n",
        "baseModel = ResNet50(weights=\"imagenet\", include_top=False,input_tensor=Input(shape=(295,295, 3)))\n",
        "headModel = baseModel.output\n",
        "headModel = AveragePooling2D(pool_size=(7, 7))(headModel)\n",
        "headModel = Flatten(name=\"flatten\")(headModel)\n",
        "headModel = Dense(128, activation=\"relu\")(headModel)\n",
        "headModel = Dropout(0.5)(headModel)\n",
        "headModel = Dense(3, activation=\"softmax\")(headModel)\n",
        "model = Model(inputs=baseModel.input, outputs=headModel)\n",
        "for layer in baseModel.layers:\n",
        "\tlayer.trainable = False"
      ],
      "execution_count": null,
      "outputs": [
        {
          "output_type": "stream",
          "text": [
            "Downloading data from https://storage.googleapis.com/tensorflow/keras-applications/resnet/resnet50_weights_tf_dim_ordering_tf_kernels_notop.h5\n",
            "94773248/94765736 [==============================] - 3s 0us/step\n"
          ],
          "name": "stdout"
        }
      ]
    },
    {
      "cell_type": "code",
      "metadata": {
        "id": "B3wRfkR6Cpo8"
      },
      "source": [
        "INIT_LR = 1e-4\n",
        "EPOCHS =10\n",
        "BS = 32\n",
        "opt = Adam(lr=INIT_LR, decay=INIT_LR / EPOCHS)\n",
        "model.compile(loss=\"binary_crossentropy\", optimizer=opt,\n",
        "\tmetrics=[\"accuracy\"])"
      ],
      "execution_count": null,
      "outputs": []
    },
    {
      "cell_type": "code",
      "metadata": {
        "id": "9up4Sak1CsEM",
        "colab": {
          "base_uri": "https://localhost:8080/"
        },
        "outputId": "d113736d-adc7-43c0-e349-3676f229bbe2"
      },
      "source": [
        "H = model.fit(x_train, trainY, batch_size=11,steps_per_epoch=len(x_train)//11,validation_data=(x_val, testY),validation_steps=len(x_val)//11 ,epochs=30)"
      ],
      "execution_count": null,
      "outputs": [
        {
          "output_type": "stream",
          "text": [
            "Epoch 1/30\n",
            "55/55 [==============================] - 205s 4s/step - loss: 0.2312 - accuracy: 0.9157 - val_loss: 0.2095 - val_accuracy: 0.9156\n",
            "Epoch 2/30\n",
            "55/55 [==============================] - 205s 4s/step - loss: 0.2256 - accuracy: 0.9201 - val_loss: 0.2031 - val_accuracy: 0.9156\n",
            "Epoch 3/30\n",
            "55/55 [==============================] - 205s 4s/step - loss: 0.2077 - accuracy: 0.9218 - val_loss: 0.2030 - val_accuracy: 0.9156\n",
            "Epoch 4/30\n",
            "55/55 [==============================] - 204s 4s/step - loss: 0.2053 - accuracy: 0.9201 - val_loss: 0.2000 - val_accuracy: 0.9156\n",
            "Epoch 5/30\n",
            "55/55 [==============================] - 203s 4s/step - loss: 0.1947 - accuracy: 0.9218 - val_loss: 0.2010 - val_accuracy: 0.9156\n",
            "Epoch 6/30\n",
            "55/55 [==============================] - 203s 4s/step - loss: 0.1915 - accuracy: 0.9251 - val_loss: 0.1987 - val_accuracy: 0.9156\n",
            "Epoch 7/30\n",
            "55/55 [==============================] - 204s 4s/step - loss: 0.2097 - accuracy: 0.9151 - val_loss: 0.1978 - val_accuracy: 0.9156\n",
            "Epoch 8/30\n",
            "55/55 [==============================] - 205s 4s/step - loss: 0.1903 - accuracy: 0.9251 - val_loss: 0.2002 - val_accuracy: 0.9156\n",
            "Epoch 9/30\n",
            "55/55 [==============================] - 205s 4s/step - loss: 0.1847 - accuracy: 0.9251 - val_loss: 0.1979 - val_accuracy: 0.9156\n",
            "Epoch 10/30\n",
            "55/55 [==============================] - 205s 4s/step - loss: 0.1963 - accuracy: 0.9201 - val_loss: 0.1988 - val_accuracy: 0.9156\n",
            "Epoch 11/30\n",
            "55/55 [==============================] - 205s 4s/step - loss: 0.2085 - accuracy: 0.9168 - val_loss: 0.1977 - val_accuracy: 0.9156\n",
            "Epoch 12/30\n",
            "55/55 [==============================] - 205s 4s/step - loss: 0.1758 - accuracy: 0.9318 - val_loss: 0.1999 - val_accuracy: 0.9156\n",
            "Epoch 13/30\n",
            "55/55 [==============================] - 206s 4s/step - loss: 0.1878 - accuracy: 0.9235 - val_loss: 0.1976 - val_accuracy: 0.9156\n",
            "Epoch 14/30\n",
            "55/55 [==============================] - 204s 4s/step - loss: 0.2128 - accuracy: 0.9201 - val_loss: 0.1972 - val_accuracy: 0.9156\n",
            "Epoch 15/30\n",
            "55/55 [==============================] - 199s 4s/step - loss: 0.2054 - accuracy: 0.9135 - val_loss: 0.1944 - val_accuracy: 0.9156\n",
            "Epoch 16/30\n",
            "55/55 [==============================] - 198s 4s/step - loss: 0.1843 - accuracy: 0.9268 - val_loss: 0.1954 - val_accuracy: 0.9156\n",
            "Epoch 17/30\n",
            "55/55 [==============================] - 205s 4s/step - loss: 0.2047 - accuracy: 0.9135 - val_loss: 0.1946 - val_accuracy: 0.9156\n",
            "Epoch 18/30\n",
            "55/55 [==============================] - 198s 4s/step - loss: 0.1864 - accuracy: 0.9218 - val_loss: 0.1956 - val_accuracy: 0.9156\n",
            "Epoch 19/30\n",
            "55/55 [==============================] - 199s 4s/step - loss: 0.1754 - accuracy: 0.9318 - val_loss: 0.1967 - val_accuracy: 0.9156\n",
            "Epoch 20/30\n",
            "55/55 [==============================] - 198s 4s/step - loss: 0.2018 - accuracy: 0.9168 - val_loss: 0.1939 - val_accuracy: 0.9156\n",
            "Epoch 21/30\n",
            "55/55 [==============================] - 198s 4s/step - loss: 0.1793 - accuracy: 0.9285 - val_loss: 0.1963 - val_accuracy: 0.9156\n",
            "Epoch 22/30\n",
            "55/55 [==============================] - 199s 4s/step - loss: 0.2024 - accuracy: 0.9085 - val_loss: 0.1928 - val_accuracy: 0.9156\n",
            "Epoch 23/30\n",
            "55/55 [==============================] - 198s 4s/step - loss: 0.1768 - accuracy: 0.9301 - val_loss: 0.1948 - val_accuracy: 0.9156\n",
            "Epoch 24/30\n",
            "55/55 [==============================] - 198s 4s/step - loss: 0.1992 - accuracy: 0.9151 - val_loss: 0.1931 - val_accuracy: 0.9156\n",
            "Epoch 25/30\n",
            "55/55 [==============================] - 198s 4s/step - loss: 0.1941 - accuracy: 0.9185 - val_loss: 0.1922 - val_accuracy: 0.9156\n",
            "Epoch 26/30\n",
            "55/55 [==============================] - 198s 4s/step - loss: 0.1844 - accuracy: 0.9235 - val_loss: 0.1925 - val_accuracy: 0.9156\n",
            "Epoch 27/30\n",
            "55/55 [==============================] - 199s 4s/step - loss: 0.2010 - accuracy: 0.9201 - val_loss: 0.1916 - val_accuracy: 0.9156\n",
            "Epoch 28/30\n",
            "55/55 [==============================] - 199s 4s/step - loss: 0.1640 - accuracy: 0.9351 - val_loss: 0.1945 - val_accuracy: 0.9156\n",
            "Epoch 29/30\n",
            "55/55 [==============================] - 198s 4s/step - loss: 0.1986 - accuracy: 0.9135 - val_loss: 0.1944 - val_accuracy: 0.9156\n",
            "Epoch 30/30\n",
            "55/55 [==============================] - 199s 4s/step - loss: 0.1792 - accuracy: 0.9201 - val_loss: 0.1915 - val_accuracy: 0.9156\n"
          ],
          "name": "stdout"
        }
      ]
    }
  ]
}