{
  "nbformat": 4,
  "nbformat_minor": 0,
  "metadata": {
    "colab": {
      "name": "Untitled28.ipynb",
      "provenance": []
    },
    "kernelspec": {
      "display_name": "Python 3",
      "name": "python3"
    }
  },
  "cells": [
    {
      "cell_type": "code",
      "metadata": {
        "id": "0hd3IcWS9bCe"
      },
      "source": [
        "import numpy as np\n",
        "data=np.load('drive/My Drive/images.npy', allow_pickle=True)\n",
        "labels=np.load('drive/My Drive/labels.npy', allow_pickle=True)"
      ],
      "execution_count": null,
      "outputs": []
    },
    {
      "cell_type": "code",
      "metadata": {
        "colab": {
          "base_uri": "https://localhost:8080/"
        },
        "id": "KflaxJFrZjKG",
        "outputId": "22fc891d-69af-4bf3-a3bd-b619288c7259"
      },
      "source": [
        "from google.colab import drive\n",
        "drive.mount('/content/drive')"
      ],
      "execution_count": null,
      "outputs": [
        {
          "output_type": "stream",
          "text": [
            "Drive already mounted at /content/drive; to attempt to forcibly remount, call drive.mount(\"/content/drive\", force_remount=True).\n"
          ],
          "name": "stdout"
        }
      ]
    },
    {
      "cell_type": "code",
      "metadata": {
        "id": "Kho_GD3p_Uvz"
      },
      "source": [
        "from keras import Sequential\n",
        "#importing other required libraries\n",
        "import numpy as np\n",
        "import pandas as pd\n",
        "from sklearn.utils.multiclass import unique_labels\n",
        "import matplotlib.pyplot as plt\n",
        "import matplotlib.image as mpimg\n",
        "import seaborn as sns\n",
        "import itertools\n",
        "from sklearn.model_selection import train_test_split\n",
        "from sklearn.metrics import confusion_matrix\n",
        "from keras import Sequential\n",
        "from keras.applications import VGG19, VGG16, ResNet50\n",
        "from keras.preprocessing.image import ImageDataGenerator\n",
        "from keras.optimizers import SGD,Adam\n",
        "from keras.callbacks import ReduceLROnPlateau\n",
        "from keras.layers import Flatten, Dense, BatchNormalization, Activation,Dropout\n",
        "from keras.utils import to_categorical\n",
        "import tensorflow as tf\n",
        "import random"
      ],
      "execution_count": null,
      "outputs": []
    },
    {
      "cell_type": "code",
      "metadata": {
        "id": "YCqlxSf8-ewU"
      },
      "source": [
        "data=np.asarray(data)"
      ],
      "execution_count": null,
      "outputs": []
    },
    {
      "cell_type": "code",
      "metadata": {
        "id": "f2gf_CeI-nZS"
      },
      "source": [
        "labels=np.asarray(labels)"
      ],
      "execution_count": null,
      "outputs": []
    },
    {
      "cell_type": "code",
      "metadata": {
        "id": "NRQhHRnH-4cQ"
      },
      "source": [
        "from tensorflow.keras.applications.resnet50 import preprocess_input,decode_predictions\n",
        "for i in range(2030):\n",
        "  data[i]=data[i].flatten()\n",
        "  data[i]=data[i][:261075]\n",
        "  data[i]=data[i].reshape((295,295,3))\n",
        "  data[i]=preprocess_input(data[i])"
      ],
      "execution_count": null,
      "outputs": []
    },
    {
      "cell_type": "code",
      "metadata": {
        "id": "L-ANoyDNjWgT"
      },
      "source": [
        "for i in range(2290,3064):\n",
        "  data[i]=data[i].flatten()\n",
        "  data[i]=data[i][:261075]\n",
        "  data[i]=data[i].reshape((295,295,3))\n",
        "  data[i]=preprocess_input(data[i])"
      ],
      "execution_count": null,
      "outputs": []
    },
    {
      "cell_type": "code",
      "metadata": {
        "id": "IVvRH1t5_AGK"
      },
      "source": [
        "a=tf.keras.utils.to_categorical(labels, num_classes=4)"
      ],
      "execution_count": null,
      "outputs": []
    },
    {
      "cell_type": "code",
      "metadata": {
        "id": "xhdqi7xb_OTl"
      },
      "source": [
        "a=np.delete(a, 0, 1)\n"
      ],
      "execution_count": null,
      "outputs": []
    },
    {
      "cell_type": "code",
      "metadata": {
        "colab": {
          "base_uri": "https://localhost:8080/"
        },
        "id": "HBsTmTQUlvj0",
        "outputId": "d22af581-3764-4943-8d77-48f058212d55"
      },
      "source": [
        "2290-2030\n"
      ],
      "execution_count": null,
      "outputs": [
        {
          "output_type": "execute_result",
          "data": {
            "text/plain": [
              "260"
            ]
          },
          "metadata": {
            "tags": []
          },
          "execution_count": 29
        }
      ]
    },
    {
      "cell_type": "code",
      "metadata": {
        "id": "s4-r7XB1DajW"
      },
      "source": [
        "d=[]\n",
        "for i in range(2030):\n",
        "  p=data[i].reshape(295,295,3)\n",
        "  d.append(p)\n",
        "for j in range(2290,3064):\n",
        "  p=data[j].reshape(295,295,3)\n",
        "  d.append(p)\n",
        "\n",
        "  "
      ],
      "execution_count": null,
      "outputs": []
    },
    {
      "cell_type": "code",
      "metadata": {
        "id": "dFUdMcllmFAf"
      },
      "source": [
        "l=[]\n",
        "for i in range(2030):\n",
        "  l.append(a[i])\n",
        "for j in range(2290,3064):\n",
        "  l.append(a[j])"
      ],
      "execution_count": null,
      "outputs": []
    },
    {
      "cell_type": "code",
      "metadata": {
        "colab": {
          "base_uri": "https://localhost:8080/"
        },
        "id": "pYqoeO-gmiuj",
        "outputId": "22e2abfa-7d52-4d4f-bfe9-1f64f907d904"
      },
      "source": [
        "d=np.asarray(d)\n",
        "l=np.asarray(l)\n",
        "l.shape"
      ],
      "execution_count": null,
      "outputs": [
        {
          "output_type": "execute_result",
          "data": {
            "text/plain": [
              "(2804, 3)"
            ]
          },
          "metadata": {
            "tags": []
          },
          "execution_count": 34
        }
      ]
    },
    {
      "cell_type": "code",
      "metadata": {
        "colab": {
          "base_uri": "https://localhost:8080/"
        },
        "id": "uhxPiLrql8VN",
        "outputId": "788a44ce-dbaf-46e1-ffb2-c76d842d0e06"
      },
      "source": [
        "d.shape"
      ],
      "execution_count": null,
      "outputs": [
        {
          "output_type": "execute_result",
          "data": {
            "text/plain": [
              "(2804, 295, 295, 3)"
            ]
          },
          "metadata": {
            "tags": []
          },
          "execution_count": 35
        }
      ]
    },
    {
      "cell_type": "code",
      "metadata": {
        "id": "e6TOO_K8M6cr"
      },
      "source": [
        "# from keras.applications.resnet50 import ResNet50\n",
        "# from keras.models import Model\n",
        "# import keras\n",
        "# restnet = ResNet50(include_top=False, weights='imagenet', input_shape=(295,295,3))\n",
        "# output = restnet.layers[-1].output\n",
        "# output = keras.layers.Flatten()(output)\n",
        "# # restnet = Model(restnet.input, output=output)\n",
        "# for layer in restnet.layers:\n",
        "#     layer.trainable = False\n",
        "# restnet.summary()"
      ],
      "execution_count": null,
      "outputs": []
    },
    {
      "cell_type": "code",
      "metadata": {
        "id": "ge0KW4W-Njz_"
      },
      "source": [
        "from keras.applications import VGG19, VGG16, ResNet50\n",
        "from keras.models import Model\n",
        "from keras.layers import Input\n",
        "from keras.layers import AveragePooling2D\n",
        "baseModel = ResNet50(weights=\"imagenet\", include_top=False,input_tensor=Input(shape=(295,295, 3)))\n",
        "headModel = baseModel.output\n",
        "headModel = AveragePooling2D(pool_size=(7, 7))(headModel)\n",
        "headModel = Flatten(name=\"flatten\")(headModel)\n",
        "headModel = Dense(128, activation=\"relu\")(headModel)\n",
        "headModel = Dropout(0.5)(headModel)\n",
        "headModel = Dense(3, activation=\"softmax\")(headModel)\n",
        "model = Model(inputs=baseModel.input, outputs=headModel)\n",
        "for layer in baseModel.layers:\n",
        "\tlayer.trainable = False\n"
      ],
      "execution_count": null,
      "outputs": []
    },
    {
      "cell_type": "code",
      "metadata": {
        "id": "LKJcNF3TPH9U"
      },
      "source": [
        "INIT_LR = 1e-4\n",
        "EPOCHS =10\n",
        "BS = 32\n",
        "opt = Adam(lr=INIT_LR, decay=INIT_LR / EPOCHS)\n",
        "model.compile(loss=\"binary_crossentropy\", optimizer=opt,\n",
        "\tmetrics=[\"accuracy\"])"
      ],
      "execution_count": null,
      "outputs": []
    },
    {
      "cell_type": "code",
      "metadata": {
        "id": "ugr5pBx8AVqT"
      },
      "source": [
        "(x_train, x_val, trainY, testY) = train_test_split(d,l,test_size=0.20, random_state=42)"
      ],
      "execution_count": null,
      "outputs": []
    },
    {
      "cell_type": "code",
      "metadata": {
        "colab": {
          "background_save": true,
          "base_uri": "https://localhost:8080/"
        },
        "id": "wAGG3gutPd3O",
        "outputId": "fcf12786-022e-4ffe-a476-fa736b96e414"
      },
      "source": [
        "H = model.fit(x_train, trainY, batch_size=11,steps_per_epoch=len(x_train)//11,validation_data=(x_val, testY),validation_steps=len(x_val)//11 ,epochs=30)"
      ],
      "execution_count": null,
      "outputs": [
        {
          "output_type": "stream",
          "text": [
            "Epoch 1/30\n",
            "203/203 [==============================] - 748s 4s/step - loss: 7.7979 - accuracy: 0.2373 - val_loss: 7.7096 - val_accuracy: 0.2460\n",
            "Epoch 2/30\n",
            "203/203 [==============================] - 749s 4s/step - loss: 7.8151 - accuracy: 0.2357 - val_loss: 7.7096 - val_accuracy: 0.2460\n",
            "Epoch 3/30\n",
            "203/203 [==============================] - 746s 4s/step - loss: 7.7922 - accuracy: 0.2379 - val_loss: 7.7096 - val_accuracy: 0.2460\n",
            "Epoch 4/30\n",
            "203/203 [==============================] - 747s 4s/step - loss: 7.7739 - accuracy: 0.2397 - val_loss: 7.7096 - val_accuracy: 0.2460\n",
            "Epoch 5/30\n",
            "203/203 [==============================] - 747s 4s/step - loss: 7.8335 - accuracy: 0.2339 - val_loss: 7.7096 - val_accuracy: 0.2460\n",
            "Epoch 6/30\n",
            "203/203 [==============================] - 749s 4s/step - loss: 7.7831 - accuracy: 0.2388 - val_loss: 7.7096 - val_accuracy: 0.2460\n",
            "Epoch 7/30\n",
            "203/203 [==============================] - 750s 4s/step - loss: 7.7856 - accuracy: 0.2384 - val_loss: 7.7096 - val_accuracy: 0.2460\n",
            "Epoch 8/30\n",
            "203/203 [==============================] - 750s 4s/step - loss: 7.8564 - accuracy: 0.2316 - val_loss: 7.7096 - val_accuracy: 0.2460\n",
            "Epoch 9/30\n",
            "203/203 [==============================] - 749s 4s/step - loss: 7.7418 - accuracy: 0.2428 - val_loss: 7.7096 - val_accuracy: 0.2460\n",
            "Epoch 10/30\n",
            "203/203 [==============================] - 748s 4s/step - loss: 7.7877 - accuracy: 0.2384 - val_loss: 7.7096 - val_accuracy: 0.2460\n",
            "Epoch 11/30\n",
            "203/203 [==============================] - 748s 4s/step - loss: 7.3417 - accuracy: 0.2809 - val_loss: 5.3402 - val_accuracy: 0.4777\n",
            "Epoch 12/30\n",
            "203/203 [==============================] - 750s 4s/step - loss: 5.1006 - accuracy: 0.5004 - val_loss: 5.3402 - val_accuracy: 0.4777\n",
            "Epoch 13/30\n",
            "203/203 [==============================] - 753s 4s/step - loss: 5.9509 - accuracy: 0.4171 - val_loss: 7.3997 - val_accuracy: 0.2763\n",
            "Epoch 14/30\n",
            "203/203 [==============================] - 753s 4s/step - loss: 6.7126 - accuracy: 0.3432 - val_loss: 5.3402 - val_accuracy: 0.4777\n",
            "Epoch 15/30\n",
            "203/203 [==============================] - 753s 4s/step - loss: 5.6288 - accuracy: 0.4485 - val_loss: 5.3402 - val_accuracy: 0.4777\n",
            "Epoch 16/30\n",
            "203/203 [==============================] - 752s 4s/step - loss: 5.3454 - accuracy: 0.4767 - val_loss: 5.3402 - val_accuracy: 0.4777\n",
            "Epoch 17/30\n",
            "203/203 [==============================] - 750s 4s/step - loss: 5.7571 - accuracy: 0.4364 - val_loss: 5.3402 - val_accuracy: 0.4777\n",
            "Epoch 18/30\n",
            "203/203 [==============================] - 750s 4s/step - loss: 5.3989 - accuracy: 0.4713 - val_loss: 5.3402 - val_accuracy: 0.4777\n",
            "Epoch 19/30\n",
            "203/203 [==============================] - 749s 4s/step - loss: 5.5437 - accuracy: 0.4574 - val_loss: 5.3402 - val_accuracy: 0.4777\n",
            "Epoch 20/30\n",
            "203/203 [==============================] - 745s 4s/step - loss: 5.5060 - accuracy: 0.4610 - val_loss: 5.3402 - val_accuracy: 0.4777\n",
            "Epoch 21/30\n",
            "203/203 [==============================] - 747s 4s/step - loss: 5.3692 - accuracy: 0.4736 - val_loss: 5.3402 - val_accuracy: 0.4777\n",
            "Epoch 22/30\n",
            "203/203 [==============================] - 746s 4s/step - loss: 5.2212 - accuracy: 0.4888 - val_loss: 5.3402 - val_accuracy: 0.4777\n",
            "Epoch 23/30\n",
            "203/203 [==============================] - 747s 4s/step - loss: 5.1866 - accuracy: 0.4919 - val_loss: 5.3402 - val_accuracy: 0.4777\n",
            "Epoch 24/30\n",
            "203/203 [==============================] - 746s 4s/step - loss: 5.0116 - accuracy: 0.5099 - val_loss: 5.3402 - val_accuracy: 0.4777\n",
            "Epoch 25/30\n",
            "203/203 [==============================] - 745s 4s/step - loss: 5.0532 - accuracy: 0.5054 - val_loss: 5.3402 - val_accuracy: 0.4777\n",
            "Epoch 26/30\n",
            "203/203 [==============================] - 745s 4s/step - loss: 4.8640 - accuracy: 0.5242 - val_loss: 5.3402 - val_accuracy: 0.4777\n",
            "Epoch 27/30\n",
            "203/203 [==============================] - 745s 4s/step - loss: 5.0299 - accuracy: 0.5081 - val_loss: 5.3402 - val_accuracy: 0.4777\n",
            "Epoch 28/30\n",
            "203/203 [==============================] - 746s 4s/step - loss: 4.9704 - accuracy: 0.5139 - val_loss: 5.3402 - val_accuracy: 0.4777\n",
            "Epoch 29/30\n",
            "203/203 [==============================] - 746s 4s/step - loss: 5.0233 - accuracy: 0.5085 - val_loss: 5.3402 - val_accuracy: 0.4777\n",
            "Epoch 30/30\n",
            "203/203 [==============================] - 780s 4s/step - loss: 4.9569 - accuracy: 0.5152 - val_loss: 5.3402 - val_accuracy: 0.4777\n"
          ],
          "name": "stdout"
        }
      ]
    },
    {
      "cell_type": "code",
      "metadata": {
        "id": "wU-RTpZNAovg"
      },
      "source": [
        ""
      ],
      "execution_count": null,
      "outputs": []
    },
    {
      "cell_type": "code",
      "metadata": {
        "colab": {
          "base_uri": "https://localhost:8080/"
        },
        "id": "DwIMktyjBu9N",
        "outputId": "a40b96ef-67af-4342-f392-dfc8f9ed588c"
      },
      "source": [
        ""
      ],
      "execution_count": null,
      "outputs": [
        {
          "output_type": "stream",
          "text": [
            "147/147 [==============================] - 6289s 43s/step - loss: nan - accuracy: 0.0105 - val_loss: nan - val_accuracy: 0.0000e+00\n"
          ],
          "name": "stdout"
        }
      ]
    },
    {
      "cell_type": "code",
      "metadata": {
        "colab": {
          "base_uri": "https://localhost:8080/"
        },
        "id": "08XljOFqG7Pb",
        "outputId": "df0c4772-e31d-44d9-b5ae-8b4a92ab7fe7"
      },
      "source": [
        ""
      ],
      "execution_count": null,
      "outputs": [
        {
          "output_type": "stream",
          "text": [
            "\u001b[K     |████████████████████████████████| 788kB 6.2MB/s \n",
            "\u001b[K     |████████████████████████████████| 358kB 45.0MB/s \n",
            "\u001b[31mERROR: jupyter-console 5.2.0 has requirement prompt-toolkit<2.0.0,>=1.0.0, but you'll have prompt-toolkit 3.0.8 which is incompatible.\u001b[0m\n",
            "\u001b[31mERROR: google-colab 1.0.0 has requirement ipython~=5.5.0, but you'll have ipython 7.16.1 which is incompatible.\u001b[0m\n",
            "\u001b[K     |████████████████████████████████| 122kB 6.0MB/s \n",
            "\u001b[31mERROR: jupyter-console 5.2.0 has requirement prompt-toolkit<2.0.0,>=1.0.0, but you'll have prompt-toolkit 3.0.8 which is incompatible.\u001b[0m\n",
            "\u001b[31mERROR: google-colab 1.0.0 has requirement ipykernel~=4.10, but you'll have ipykernel 5.3.4 which is incompatible.\u001b[0m\n",
            "\u001b[31mERROR: google-colab 1.0.0 has requirement ipython~=5.5.0, but you'll have ipython 7.16.1 which is incompatible.\u001b[0m\n",
            "\u001b[?25h"
          ],
          "name": "stdout"
        }
      ]
    },
    {
      "cell_type": "code",
      "metadata": {
        "id": "9UNppGv5IMBP"
      },
      "source": [
        ""
      ],
      "execution_count": null,
      "outputs": []
    }
  ]
}